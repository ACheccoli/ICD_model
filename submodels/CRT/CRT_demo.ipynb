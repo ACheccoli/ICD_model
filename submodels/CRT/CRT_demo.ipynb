{
 "cells": [
  {
   "cell_type": "code",
   "execution_count": 1,
   "metadata": {},
   "outputs": [],
   "source": [
    "import maboss \n",
    "import matplotlib.pyplot as plt\n",
    "import numpy as np\n",
    "import pandas as pd"
   ]
  },
  {
   "cell_type": "code",
   "execution_count": 2,
   "metadata": {},
   "outputs": [],
   "source": [
    "bnd = 'CRT.bnd'\n",
    "cfg = 'CRT.cfg'\n",
    "CRT_model = maboss.load(bnd,cfg)"
   ]
  },
  {
   "cell_type": "code",
   "execution_count": 3,
   "metadata": {},
   "outputs": [
    {
     "data": {
      "text/plain": [
       "Network([('Tumor', <maboss.network.Node at 0x7ff0ffb7f9d0>),\n",
       "         ('ANTHRACYCL', <maboss.network.Node at 0x7ff0ffc64670>),\n",
       "         ('ROS', <maboss.network.Node at 0x7ff0ffb92700>),\n",
       "         ('iNOS', <maboss.network.Node at 0x7ff0ffb92730>),\n",
       "         ('eIF2a', <maboss.network.Node at 0x7ff0ffb92760>),\n",
       "         ('PERK', <maboss.network.Node at 0x7ff0ffb92790>),\n",
       "         ('PP1_GADD34', <maboss.network.Node at 0x7ff0ffb927c0>),\n",
       "         ('SERCA_Ca2', <maboss.network.Node at 0x7ff0ffb927f0>),\n",
       "         ('TRAIL', <maboss.network.Node at 0x7ff0ffb92820>),\n",
       "         ('CASP8', <maboss.network.Node at 0x7ff0ffb92850>),\n",
       "         ('BAP31', <maboss.network.Node at 0x7ff0ffb92880>),\n",
       "         ('BAX', <maboss.network.Node at 0x7ff0ffb928b0>),\n",
       "         ('BAK', <maboss.network.Node at 0x7ff0ffb928e0>),\n",
       "         ('translocation', <maboss.network.Node at 0x7ff0ffb92910>),\n",
       "         ('actin', <maboss.network.Node at 0x7ff0ffb92940>),\n",
       "         ('VAMP1', <maboss.network.Node at 0x7ff0ffb92970>),\n",
       "         ('SNAP23', <maboss.network.Node at 0x7ff0ffb929a0>),\n",
       "         ('ERp57_CRT', <maboss.network.Node at 0x7ff0ffb929d0>)])"
      ]
     },
     "execution_count": 3,
     "metadata": {},
     "output_type": "execute_result"
    }
   ],
   "source": [
    "CRT_model.network"
   ]
  },
  {
   "cell_type": "code",
   "execution_count": 91,
   "metadata": {},
   "outputs": [],
   "source": [
    "CRT_model.param['$u_SNAP23'] = 1.0"
   ]
  },
  {
   "cell_type": "code",
   "execution_count": 92,
   "metadata": {},
   "outputs": [],
   "source": [
    "sim = CRT_model.run()"
   ]
  },
  {
   "cell_type": "code",
   "execution_count": 93,
   "metadata": {},
   "outputs": [],
   "source": [
    "plt.ion()\n",
    "res = sim.get_nodes_probtraj()"
   ]
  },
  {
   "cell_type": "code",
   "execution_count": null,
   "metadata": {},
   "outputs": [],
   "source": [
    "#plt.plot(res['ANTHRACYCL'],label=\"Anthracyclines\")\n",
    "plt.plot(res['SNAP23'],label=\"SNAP23_newUPMBSS\")\n",
    "plt.plot(res['translocation'],label=\"translocation_newUPMBSS\")\n",
    "plt.plot(res['ERp57_CRT'],label=\"CRT_newUPMBSS\")\n",
    "plt.legend()"
   ]
  },
  {
   "cell_type": "code",
   "execution_count": 94,
   "metadata": {},
   "outputs": [
    {
     "data": {
      "text/plain": [
       "<matplotlib.legend.Legend at 0x7f6842fce790>"
      ]
     },
     "execution_count": 94,
     "metadata": {},
     "output_type": "execute_result"
    },
    {
     "data": {
      "image/png": "[encoded data removed]",
      "text/plain": [
       "<Figure size 432x288 with 1 Axes>"
      ]
     },
     "metadata": {
      "needs_background": "light"
     },
     "output_type": "display_data"
    }
   ],
   "source": [
    "#plt.plot(res['ANTHRACYCL'],label=\"Anthracyclines\")\n",
    "plt.plot(res['SNAP23'],label=\"SNAP23\")\n",
    "plt.plot(res['translocation'],label=\"translocation\")\n",
    "plt.plot(res['ERp57_CRT'],label=\"CRT\")\n",
    "plt.legend()"
   ]
  },
  {
   "cell_type": "code",
   "execution_count": 4,
   "metadata": {},
   "outputs": [],
   "source": [
    "upp = 'CRT.upp'\n",
    "CRT_upp_model = maboss.UpdatePopulation(CRT_model,upp)\n",
    "upp_sim = CRT_upp_model.run()"
   ]
  },
  {
   "cell_type": "code",
   "execution_count": 96,
   "metadata": {},
   "outputs": [],
   "source": [
    "upp_res = upp_sim.get_nodes_stepwise_probability_distribution()"
   ]
  },
  {
   "cell_type": "code",
   "execution_count": null,
   "metadata": {},
   "outputs": [],
   "source": [
    "#plt.plot(upp_res['SNAP23'],label=\"SNAP23\")\n",
    "plt.plot(upp_res['Tumor'],label=\"Tumor_newUPMBSS\")\n",
    "plt.plot(upp_res['translocation'],label=\"translocation_newUPMBSS\")\n",
    "plt.plot(upp_res['ERp57_CRT'],label=\"CRT_newUPMBSS\")\n",
    "plt.legend()"
   ]
  },
  {
   "cell_type": "code",
   "execution_count": 98,
   "metadata": {},
   "outputs": [
    {
     "data": {
      "text/plain": [
       "<matplotlib.legend.Legend at 0x7f684318a750>"
      ]
     },
     "execution_count": 98,
     "metadata": {},
     "output_type": "execute_result"
    },
    {
     "data": {
      "image/png": "[encoded data removed]",
      "text/plain": [
       "<Figure size 432x288 with 1 Axes>"
      ]
     },
     "metadata": {
      "needs_background": "light"
     },
     "output_type": "display_data"
    }
   ],
   "source": [
    "#plt.plot(upp_res['SNAP23'],label=\"SNAP23\")\n",
    "plt.plot(upp_res['Tumor'],label=\"Tumor\")\n",
    "plt.plot(upp_res['translocation'],label=\"translocation\")\n",
    "plt.plot(upp_res['ERp57_CRT'],label=\"CRT\")\n",
    "plt.legend()"
   ]
  },
  {
   "cell_type": "code",
   "execution_count": null,
   "metadata": {},
   "outputs": [],
   "source": []
  }
 ],
 "metadata": {
  "kernelspec": {
   "display_name": "Python 3 (ipykernel)",
   "language": "python",
   "name": "python3"
  },
  "language_info": {
   "codemirror_mode": {
    "name": "ipython",
    "version": 3
   },
   "file_extension": ".py",
   "mimetype": "text/x-python",
   "name": "python",
   "nbconvert_exporter": "python",
   "pygments_lexer": "ipython3",
   "version": "3.9.7"
  }
 },
 "nbformat": 4,
 "nbformat_minor": 4
}
