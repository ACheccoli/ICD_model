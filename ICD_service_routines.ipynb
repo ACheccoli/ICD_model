{
 "cells": [
  {
   "cell_type": "code",
   "execution_count": 1,
   "metadata": {},
   "outputs": [],
   "source": [
    "import maboss\n",
    "import matplotlib.pyplot as plt\n",
    "import time\n",
    "import seaborn as sns\n",
    "import numpy as np\n",
    "import pandas as pd"
   ]
  },
  {
   "cell_type": "code",
   "execution_count": 2,
   "metadata": {},
   "outputs": [
    {
     "data": {
      "text/plain": [
       "'2021-03-25'"
      ]
     },
     "execution_count": 2,
     "metadata": {},
     "output_type": "execute_result"
    }
   ],
   "source": [
    "from datetime import datetime\n",
    "e = datetime.today().strftime('%Y-%m-%d')\n",
    "str(e)"
   ]
  },
  {
   "cell_type": "code",
   "execution_count": 3,
   "metadata": {},
   "outputs": [],
   "source": [
    "file = 'ICD_latest'"
   ]
  },
  {
   "cell_type": "code",
   "execution_count": 4,
   "metadata": {},
   "outputs": [],
   "source": [
    "bnd = file+'.bnd'\n",
    "cfg = file+'.cfg'\n",
    "upp = file+'.upp'"
   ]
  },
  {
   "cell_type": "code",
   "execution_count": 5,
   "metadata": {},
   "outputs": [],
   "source": [
    "sns.set_style(\"white\")\n",
    "colormap_scale = sns.light_palette(\"black\", as_cmap=True)\n",
    "colormap_ratios = sns.diverging_palette(240, 0, center='light', as_cmap=True)\n",
    "def save_figure(figure, title):\n",
    "    figure.savefig(\"%s.pdf\" % title, bbox_inches=\"tight\")"
   ]
  },
  {
   "cell_type": "code",
   "execution_count": 6,
   "metadata": {},
   "outputs": [
    {
     "data": {
      "application/javascript": [
       "if (!(\"Notification\" in window)) {\n",
       "    alert(\"This browser does not support desktop notifications, so the %%notify magic will not work.\");\n",
       "} else if (Notification.permission !== 'granted' && Notification.permission !== 'denied') {\n",
       "    Notification.requestPermission(function (permission) {\n",
       "        if(!('permission' in Notification)) {\n",
       "            Notification.permission = permission;\n",
       "        }\n",
       "    })\n",
       "}\n"
      ],
      "text/plain": [
       "<IPython.core.display.Javascript object>"
      ]
     },
     "metadata": {},
     "output_type": "display_data"
    }
   ],
   "source": [
    "%load_ext jupyternotify"
   ]
  },
  {
   "cell_type": "code",
   "execution_count": 5,
   "metadata": {},
   "outputs": [],
   "source": [
    "sim = maboss.load(bnd,cfg)\n",
    "big_sim = maboss.UpdatePopulation(sim,upp)"
   ]
  },
  {
   "cell_type": "code",
   "execution_count": 6,
   "metadata": {},
   "outputs": [
    {
     "data": {
      "text/plain": [
       "Network([('Tumor', <maboss.network.Node at 0x7fcfbcec28b0>),\n",
       "         ('ChemoT', <maboss.network.Node at 0x7fcfbce14130>),\n",
       "         ('anti_CTLA4', <maboss.network.Node at 0x7fcfbce14e80>),\n",
       "         ('anti_PD1', <maboss.network.Node at 0x7fcfbce14eb0>),\n",
       "         ('DyingTumor', <maboss.network.Node at 0x7fcfbce14ee0>),\n",
       "         ('cDC1', <maboss.network.Node at 0x7fcfbce14f10>),\n",
       "         ('cDC2', <maboss.network.Node at 0x7fcfbce14f40>),\n",
       "         ('moDC', <maboss.network.Node at 0x7fcfbce14f70>),\n",
       "         ('pDC', <maboss.network.Node at 0x7fcfbce14fa0>),\n",
       "         ('CD4', <maboss.network.Node at 0x7fcfbce14fd0>),\n",
       "         ('CD8', <maboss.network.Node at 0x7fcfbce1b040>),\n",
       "         ('a_cDC1', <maboss.network.Node at 0x7fcfbce1b070>),\n",
       "         ('a_cDC2', <maboss.network.Node at 0x7fcfbce1b0a0>),\n",
       "         ('CD4_Act', <maboss.network.Node at 0x7fcfbce1b0d0>),\n",
       "         ('P2Y2R', <maboss.network.Node at 0x7fcfbce1b100>),\n",
       "         ('P2X7R', <maboss.network.Node at 0x7fcfbce1b130>),\n",
       "         ('FPR1', <maboss.network.Node at 0x7fcfbce1b160>),\n",
       "         ('LRP1', <maboss.network.Node at 0x7fcfbce1b190>),\n",
       "         ('TLR4', <maboss.network.Node at 0x7fcfbce1b1c0>),\n",
       "         ('IFN1R', <maboss.network.Node at 0x7fcfbce1b1f0>),\n",
       "         ('IL1BR', <maboss.network.Node at 0x7fcfbce1b220>),\n",
       "         ('IL2R', <maboss.network.Node at 0x7fcfbce1b250>),\n",
       "         ('IL4R', <maboss.network.Node at 0x7fcfbce1b280>),\n",
       "         ('IL6R', <maboss.network.Node at 0x7fcfbce1b2b0>),\n",
       "         ('IL10R', <maboss.network.Node at 0x7fcfbce1b2e0>),\n",
       "         ('IL12R', <maboss.network.Node at 0x7fcfbce1b310>),\n",
       "         ('IL27R', <maboss.network.Node at 0x7fcfbce1b340>),\n",
       "         ('IFNgR', <maboss.network.Node at 0x7fcfbce1b370>),\n",
       "         ('IL17R', <maboss.network.Node at 0x7fcfbce1b3a0>),\n",
       "         ('TGFbR', <maboss.network.Node at 0x7fcfbce1b3d0>),\n",
       "         ('CXCR3', <maboss.network.Node at 0x7fcfbce1b400>),\n",
       "         ('CD28', <maboss.network.Node at 0x7fcfbce1b430>),\n",
       "         ('CTLA4', <maboss.network.Node at 0x7fcfbce1b460>),\n",
       "         ('PD1', <maboss.network.Node at 0x7fcfbce1b490>),\n",
       "         ('TNFRs', <maboss.network.Node at 0x7fcfbce1b4c0>),\n",
       "         ('TCR_I', <maboss.network.Node at 0x7fcfbce1b4f0>),\n",
       "         ('TCR_II', <maboss.network.Node at 0x7fcfbce1b520>),\n",
       "         ('CD226', <maboss.network.Node at 0x7fcfbce1b550>),\n",
       "         ('Proliferation_Survival', <maboss.network.Node at 0x7fcfbce1b580>),\n",
       "         ('PRDM1', <maboss.network.Node at 0x7fcfbce1b5b0>),\n",
       "         ('MAF', <maboss.network.Node at 0x7fcfbce1b5e0>),\n",
       "         ('STAT1', <maboss.network.Node at 0x7fcfbce1b610>),\n",
       "         ('STAT3', <maboss.network.Node at 0x7fcfbce1b640>),\n",
       "         ('STAT4', <maboss.network.Node at 0x7fcfbce1b670>),\n",
       "         ('NFkB', <maboss.network.Node at 0x7fcfbce1b6a0>),\n",
       "         ('MAPKs', <maboss.network.Node at 0x7fcfbce1b6d0>),\n",
       "         ('Ca_NFAT', <maboss.network.Node at 0x7fcfbce1b700>),\n",
       "         ('PI3K_AKT', <maboss.network.Node at 0x7fcfbce1b730>),\n",
       "         ('Tbet', <maboss.network.Node at 0x7fcfbce1b760>),\n",
       "         ('FOXP3', <maboss.network.Node at 0x7fcfbce1b790>),\n",
       "         ('FOXO1', <maboss.network.Node at 0x7fcfbce1b7c0>),\n",
       "         ('LAT_complex', <maboss.network.Node at 0x7fcfbce1b7f0>),\n",
       "         ('VAV', <maboss.network.Node at 0x7fcfbce1b820>),\n",
       "         ('PLCG', <maboss.network.Node at 0x7fcfbce1b850>),\n",
       "         ('PKC_teta', <maboss.network.Node at 0x7fcfbce1b880>),\n",
       "         ('LAG3', <maboss.network.Node at 0x7fcfbce1b8b0>),\n",
       "         ('TIM3', <maboss.network.Node at 0x7fcfbce1b8e0>),\n",
       "         ('TIGIT', <maboss.network.Node at 0x7fcfbce1b910>),\n",
       "         ('ICOS', <maboss.network.Node at 0x7fcfbce1b940>),\n",
       "         ('TRAFs', <maboss.network.Node at 0x7fcfbce1b970>),\n",
       "         ('CK2', <maboss.network.Node at 0x7fcfbce14160>),\n",
       "         ('PTEN', <maboss.network.Node at 0x7fcfbcf6c310>),\n",
       "         ('PP2A', <maboss.network.Node at 0x7fcfbced05b0>),\n",
       "         ('SHIP', <maboss.network.Node at 0x7fcfbced0460>),\n",
       "         ('SHP', <maboss.network.Node at 0x7fcfbce5cac0>),\n",
       "         ('AP1', <maboss.network.Node at 0x7fcfbce5cb50>),\n",
       "         ('YY1', <maboss.network.Node at 0x7fcfbce5c040>),\n",
       "         ('NFAT', <maboss.network.Node at 0x7fcfbce90550>),\n",
       "         ('LCK_FYN', <maboss.network.Node at 0x7fcfbce90c70>),\n",
       "         ('SMAD2_3', <maboss.network.Node at 0x7fcfbce90a60>),\n",
       "         ('SMAD7', <maboss.network.Node at 0x7fcfbce90940>),\n",
       "         ('NFIL3', <maboss.network.Node at 0x7fcfbce907c0>),\n",
       "         ('GRB2', <maboss.network.Node at 0x7fcfbce74ee0>),\n",
       "         ('GSK3', <maboss.network.Node at 0x7fcfbce742b0>),\n",
       "         ('Th1', <maboss.network.Node at 0x7fcfbcec7520>),\n",
       "         ('Th2', <maboss.network.Node at 0x7fcfbcec7760>),\n",
       "         ('Th17', <maboss.network.Node at 0x7fcfbcec7cd0>),\n",
       "         ('Treg', <maboss.network.Node at 0x7fcfbcec72e0>),\n",
       "         ('preCTL', <maboss.network.Node at 0x7fcfbce6ec70>),\n",
       "         ('CTL', <maboss.network.Node at 0x7fcfbce6e4f0>),\n",
       "         ('ROS', <maboss.network.Node at 0x7fcfbce6e9d0>),\n",
       "         ('iNOS', <maboss.network.Node at 0x7fcfbce6e040>),\n",
       "         ('eIF2a', <maboss.network.Node at 0x7fcfbce87ee0>),\n",
       "         ('PERK', <maboss.network.Node at 0x7fcfbce87190>),\n",
       "         ('PP1_GADD34', <maboss.network.Node at 0x7fcfbce87070>),\n",
       "         ('SERCA_Ca2', <maboss.network.Node at 0x7fcfbce87910>),\n",
       "         ('TRAIL', <maboss.network.Node at 0x7fcfbce87b80>),\n",
       "         ('CASP8', <maboss.network.Node at 0x7fcfbce876d0>),\n",
       "         ('BAP31', <maboss.network.Node at 0x7fcfbce87a60>),\n",
       "         ('BAX', <maboss.network.Node at 0x7fcfbce87640>),\n",
       "         ('BAK', <maboss.network.Node at 0x7fcfbce872e0>),\n",
       "         ('translocation', <maboss.network.Node at 0x7fcfbce87dc0>),\n",
       "         ('actin', <maboss.network.Node at 0x7fcfbce87550>),\n",
       "         ('VAMP1', <maboss.network.Node at 0x7fcfbce874c0>),\n",
       "         ('SNAP23', <maboss.network.Node at 0x7fcfbce7d0a0>),\n",
       "         ('CALR', <maboss.network.Node at 0x7fcfbce7d6d0>),\n",
       "         ('ATP', <maboss.network.Node at 0x7fcfbce7df40>),\n",
       "         ('ANXA1', <maboss.network.Node at 0x7fcfbce7d6a0>),\n",
       "         ('HMGB1', <maboss.network.Node at 0x7fcfbce7d9a0>),\n",
       "         ('CXCL10', <maboss.network.Node at 0x7fcfbce7dbe0>),\n",
       "         ('LAG3_L', <maboss.network.Node at 0x7fcfbce7d100>),\n",
       "         ('TIM3_L', <maboss.network.Node at 0x7fcfbce7dac0>),\n",
       "         ('TIGIT_L', <maboss.network.Node at 0x7fcfbce7dd60>),\n",
       "         ('PD_L1', <maboss.network.Node at 0x7fcfbce7df70>),\n",
       "         ('TNFRs_L', <maboss.network.Node at 0x7fcfbce62fa0>),\n",
       "         ('ICOS_L', <maboss.network.Node at 0x7fcfbce828b0>),\n",
       "         ('CD80', <maboss.network.Node at 0x7fcfbce82dc0>),\n",
       "         ('MHC_I', <maboss.network.Node at 0x7fcfbce82190>),\n",
       "         ('MHC_II', <maboss.network.Node at 0x7fcfbce82730>),\n",
       "         ('IL1B', <maboss.network.Node at 0x7fcfbce82910>),\n",
       "         ('IL2', <maboss.network.Node at 0x7fcfbce82f70>),\n",
       "         ('IL4', <maboss.network.Node at 0x7fcfbce824c0>),\n",
       "         ('IL6', <maboss.network.Node at 0x7fcfbce1b9a0>),\n",
       "         ('IL10', <maboss.network.Node at 0x7fcfbce1b9d0>),\n",
       "         ('IL12', <maboss.network.Node at 0x7fcfbce1ba00>),\n",
       "         ('IL17', <maboss.network.Node at 0x7fcfbce1ba30>),\n",
       "         ('IL27', <maboss.network.Node at 0x7fcfbce1ba60>),\n",
       "         ('IFNg', <maboss.network.Node at 0x7fcfbce1ba90>),\n",
       "         ('TGFb', <maboss.network.Node at 0x7fcfbce1bac0>),\n",
       "         ('Perforin', <maboss.network.Node at 0x7fcfbce1baf0>),\n",
       "         ('IFN1', <maboss.network.Node at 0x7fcfbce1bb20>),\n",
       "         ('Division', <maboss.network.Node at 0x7fcfbce1bb50>),\n",
       "         ('Death', <maboss.network.Node at 0x7fcfbce1bb80>)])"
      ]
     },
     "execution_count": 6,
     "metadata": {},
     "output_type": "execute_result"
    }
   ],
   "source": [
    "sim.network"
   ]
  },
  {
   "cell_type": "code",
   "execution_count": null,
   "metadata": {},
   "outputs": [],
   "source": [
    "start = time.time()\n",
    "res = big_sim.run()\n",
    "nodes=('Tumor','ChemoT','anti_CTLA4','anti_PD1','DyingTumor','cDC1','cDC2','moDC','pDC','CD4','CD8','a_cDC1','a_cDC2','CD4_Act','P2Y2R','P2X7R','FPR1','LRP1','TLR4','IFN1R','IL1BR','IL2R','IL4R','IL6R','IL10R','IL12R','IL27R','IFNgR','IL17R','TGFbR','CXCR3','CD28','CTLA4','PD1','TNFRs','TCR_I','TCR_II','CD226','Proliferation_Survival','PRDM1','MAF','STAT4','NFkB','MAPKs','Ca_NFAT','PI3K_AKT','Tbet','FOXP3','FOXO1','LAT_complex','VAV','PLCG','PKC_teta','TIM3','TIGIT','ICOS','TRAFs','CK2','PTEN','PP2A','SHIP','SHP','LAG3','AP1','YY1','NFAT','LCK_FYN','STAT1','SMAD2_3','SMAD7','STAT3','NFIL3','GRB2','GSK3','Th1','Th2','Th17','Treg','CALR','ATP','ANXA1','HMGB1','CXCL10','LAG3_L','TIM3_L','TIGIT_L','PD_L1','TNFRs_L','ICOS_L','CD80','MHC_I','MHC_II','IL1B','IL2','IL4','IL6','IL10','IL12','IL17','IL27','IFNg','TGFb','Perforin','preCTL','CTL','IFN1','Division','Death')\n",
    "table = res.get_nodes_stepwise_probability_distribution(nodes)\n",
    "stop = time.time()\n",
    "duration = (stop-start)/60\n",
    "print(\"exec. time: \",duration,\" mins\")\n",
    "%notify -m \"The simulation is over.\""
   ]
  },
  {
   "cell_type": "code",
   "execution_count": null,
   "metadata": {},
   "outputs": [],
   "source": [
    "table.to_csv('temporary.csv')"
   ]
  },
  {
   "cell_type": "code",
   "execution_count": null,
   "metadata": {},
   "outputs": [],
   "source": [
    "plt.figure()\n",
    "#plt.plot(table['PopRatio']*table['IL2'],label='IL2')\n",
    "#plt.plot(table['PopRatio']*table['IL2R'],label='IL2R')\n",
    "#plt.plot(table['PopRatio']*table['NFkB'],label='NFkB')\n",
    "#plt.plot(table['PopRatio']*table['AP1'],label='AP1')\n",
    "#plt.plot(table['PopRatio']*table['NFAT'],label='NFAT')\n",
    "#plt.plot(table['PopRatio']*table['CD4'],label='CD4')\n",
    "#plt.plot(table['PopRatio']*table['CD28'],label='CD28')\n",
    "#plt.plot(table['PopRatio']*table['TCR_II'],label='TCR_II')\n",
    "#plt.plot(table['PopRatio']*table['CD4_Act'],label='CD4_Act')\n",
    "#plt.plot(table['PopRatio']*table['IFNg'],label='IFNg')\n",
    "#plt.plot(table['PopRatio']*table['Proliferation_Survival'],label='prol')\n",
    "plt.plot(table['PopRatio']*table['CTL'],label='CTL')\n",
    "plt.plot(table['PopRatio']*table['preCTL'],label='preCTL')\n",
    "\n",
    "plt.legend()"
   ]
  },
  {
   "cell_type": "code",
   "execution_count": null,
   "metadata": {},
   "outputs": [],
   "source": [
    "plt.ioff()\n",
    "All = plt.figure()\n",
    "plt.plot(table['PopRatio']*table['CTL'],label=\"CTL\")\n",
    "plt.plot(table['PopRatio']*table['CALR'],label=\"CALR\")\n",
    "plt.plot(table['PopRatio']*table['HMGB1'],label=\"HMGB1\")\n",
    "plt.plot(table['PopRatio']*table['Treg'],label=\"Treg\")\n",
    "plt.plot(table['PopRatio']*table['Tumor'],label=\"Tumor\")\n",
    "plt.plot(table['PopRatio']*table['Perforin'],label=\"Perforin\")\n",
    "plt.plot(table['PopRatio']*table['CTLA4'],label=\"CTLA4\")\n",
    "plt.plot(table['PopRatio']*table['PD1'],label=\"PD1\")\n",
    "plt.ylabel(\"Rel.size\")\n",
    "plt.xlabel(\"Time\")\n",
    "plt.legend()\n",
    "save_figure(All,\"ALL_ICD\"+str(e))\n",
    "plt.close(All)\n",
    "DCs = plt.figure()\n",
    "plt.plot(table['PopRatio']*table['moDC'],label=\"moDC\")\n",
    "plt.plot(table['PopRatio']*table['pDC'],label=\"pDC\")            \n",
    "plt.plot(table['PopRatio']*table['cDC1'],label=\"cDC1\")\n",
    "plt.plot(table['PopRatio']*table['cDC2'],label=\"cDC2\")            \n",
    "plt.plot(table['PopRatio']*table['a_cDC1'],label=\"a_cDC1\")\n",
    "plt.plot(table['PopRatio']*table['a_cDC2'],label=\"a_cDC2\")\n",
    "plt.ylabel(\"Rel.size\")\n",
    "plt.xlabel(\"Time\")\n",
    "plt.legend()\n",
    "save_figure(DCs,\"DCs_ICD\"+str(e))            \n",
    "plt.close(DCs)            \n",
    "NTcells = plt.figure()\n",
    "plt.plot(table['PopRatio']*table['Treg'],label=\"Treg\")\n",
    "plt.plot(table['PopRatio']*table['Th1'],label=\"Th1\")\n",
    "plt.plot(table['PopRatio']*table['Th2'],label=\"Th2\")\n",
    "plt.plot(table['PopRatio']*table['Th17'],label=\"Th17\")\n",
    "plt.plot(table['PopRatio']*table['preCTL'],label=\"preCTL\")\n",
    "plt.plot(table['PopRatio']*table['CTL'],label=\"CTL\")\n",
    "plt.ylabel(\"Rel.size\")\n",
    "plt.xlabel(\"Time\")\n",
    "plt.legend()\n",
    "save_figure(NTcells,\"Tcells_ICD\"+str(e))\n",
    "plt.close(NTcells)\n",
    "Ligands = plt.figure()\n"
   ]
  },
  {
   "cell_type": "code",
   "execution_count": null,
   "metadata": {},
   "outputs": [],
   "source": [
    "values = np.linspace(0.1,1.0,10)\n",
    "values"
   ]
  },
  {
   "cell_type": "code",
   "execution_count": null,
   "metadata": {},
   "outputs": [],
   "source": [
    "plt.ioff()\n",
    "for l in values:\n",
    "    sim = maboss.load(bnd,cfg)\n",
    "    sim.network.set_istate(\"Anti_CTLA4\",[l,1-l])\n",
    "    sim.network.set_istate(\"Anti_PD1\",[1-l,l])\n",
    "    big_sim = maboss.UpdatePopulation(sim,upp)\n",
    "    start = time.time()\n",
    "    res = big_sim.run()\n",
    "    nodes=('Tumor','DC','aDC','cd4','cd8','Th1','Th2','Th17','Treg','preCTL','CTL','CALR_o','HMGB1_o','Perforin_o','IL10_o','IL27_o','CD28','CTLA4','PD1','PD1_L','Anti_PD1_L','Anti_CTLA4')\n",
    "    table = res.get_nodes_stepwise_probability_distribution(nodes)\n",
    "    Tcells = plt.figure()\n",
    "    plt.plot(table['PopRatio']*table['Th1'],label=\"Th1\")\n",
    "    plt.plot(table['PopRatio']*table['Th2'],label=\"Th2\")\n",
    "    plt.plot(table['PopRatio']*table['Th17'],label=\"Th17\")\n",
    "    plt.plot(table['PopRatio']*table['CTL'],label=\"CTL\")\n",
    "    plt.plot(table['PopRatio']*table['Treg'],label=\"Treg\")\n",
    "    plt.plot(table['PopRatio']*table['IL10_o'],label=\"IL10\")\n",
    "    plt.plot(table['PopRatio']*table['IL27_o'],label=\"IL27\")\n",
    "    plt.plot(table['PopRatio']*table['CTLA4'],label=\"CTLA4\")\n",
    "    plt.plot(table['PopRatio']*table['PD1'],label=\"PD1\")\n",
    "    plt.plot(table['PopRatio']*table['Tumor'],label=\"Tumor\")\n",
    "    plt.plot(table['PopRatio']*table['Perforin_o'],label=\"Perforin_o\")\n",
    "    plt.ylabel(\"Rel.size\")\n",
    "    plt.xlabel(\"Time\")\n",
    "    plt.legend()\n",
    "    save_figure(Tcells,\"ALL_AntiPD1_\"+str(1-l)+\"AntiCTLA4_\"+str(l))\n",
    "    plt.close(Tcells)\n",
    "    checkpoint_cd28 = plt.figure()\n",
    "    plt.plot(table['PopRatio']*table['CTLA4'],label=\"CTLA4\")\n",
    "    plt.plot(table['PopRatio']*table['PD1'],label=\"PD1\")\n",
    "    plt.plot(table['PopRatio']*table['CD28'],label=\"cd28\")\n",
    "    plt.legend()\n",
    "    save_figure(checkpoint_cd28,\"CD28_AntiPD1_\"+str(1-l)+\"AntiCTLA4_\"+str(l))\n",
    "    plt.close(checkpoint_cd28)\n",
    "    NTcells = plt.figure()\n",
    "    plt.plot(table['PopRatio']*table['Treg'],label=\"Treg\")\n",
    "    plt.plot(table['PopRatio']*table['Th1'],label=\"Th1\")\n",
    "    plt.plot(table['PopRatio']*table['Th2'],label=\"Th2\")\n",
    "    plt.plot(table['PopRatio']*table['preCTL'],label=\"preCTL\")\n",
    "    plt.plot(table['PopRatio']*table['CTL'],label=\"CTL\")\n",
    "    #plt.plot(table['PopRatio']*table['Tumor'],label=\"Tumor\")\n",
    "    plt.plot(table['PopRatio']*table['Perforin_o'],label=\"Perforin_o\")\n",
    "    plt.ylabel(\"Rel.size\")\n",
    "    plt.xlabel(\"Time\")\n",
    "    plt.legend()\n",
    "    save_figure(NTcells,\"Tcells_AntiPD1_\"+str(1-l)+\"AntiCTLA4\"+str(l))\n",
    "    plt.close(NTcells)\n",
    "    stop = time.time()\n",
    "    duration = (stop-start)/60\n",
    "    print(\"exec. time: \",duration,\" mins\")"
   ]
  },
  {
   "cell_type": "code",
   "execution_count": null,
   "metadata": {},
   "outputs": [],
   "source": [
    "adc = plt.figure()\n",
    "plt.plot(table['PopRatio']*table['Tumor'],'-g',label=\"Tumor\")\n",
    "plt.plot(table['PopRatio']*table['CALR_o'],'-',label=\"CALR_o\")\n",
    "plt.plot(table['PopRatio']*table['aDC'],'-r',label=\"aDC\")\n",
    "plt.ylabel(\"Rel.size\")\n",
    "plt.xlabel(r'$Time')\n",
    "plt.legend()\n",
    "#save_figure(adc,\"aDC_Tumor_CALR\")"
   ]
  },
  {
   "cell_type": "code",
   "execution_count": null,
   "metadata": {},
   "outputs": [],
   "source": [
    "bnd_d = 'ICD_ExtendDy.bnd'\n",
    "cfg_d = 'ICD_ExtendDy.cfg'\n",
    "upp_d = 'ICD_ExtendDy.upp'"
   ]
  },
  {
   "cell_type": "code",
   "execution_count": null,
   "metadata": {},
   "outputs": [],
   "source": [
    "sim_d = maboss.load(bnd_d,cfg_d)"
   ]
  },
  {
   "cell_type": "code",
   "execution_count": null,
   "metadata": {},
   "outputs": [],
   "source": [
    "WT = maboss.UpdatePopulation(sim_d,upp)"
   ]
  },
  {
   "cell_type": "code",
   "execution_count": null,
   "metadata": {},
   "outputs": [],
   "source": [
    "start = time.time()\n",
    "WT_res = WT.run()\n",
    "stop = time.time()\n",
    "duration = (stop-start)/60\n",
    "print(\"exec. time: \",duration,\" mins\")"
   ]
  },
  {
   "cell_type": "code",
   "execution_count": null,
   "metadata": {},
   "outputs": [],
   "source": [
    "WT_table = WT_res.get_nodes_stepwise_probability_distribution(nodes)"
   ]
  },
  {
   "cell_type": "markdown",
   "metadata": {},
   "source": [
    " __Higher initial DC population__  (i.e. $\\text{initial pop}\\cdot 1.5$)"
   ]
  },
  {
   "cell_type": "code",
   "execution_count": null,
   "metadata": {},
   "outputs": [],
   "source": [
    "HighDC = maboss.UpdatePopulation(sim_d,upp)\n",
    "HighDC.param['$InitDC'] = 0.15"
   ]
  },
  {
   "cell_type": "code",
   "execution_count": null,
   "metadata": {},
   "outputs": [],
   "source": [
    "start = time.time()\n",
    "HighDC_res = HighDC.run()\n",
    "stop = time.time()\n",
    "duration = (stop-start)/60\n",
    "print(\"exec. time: \",duration,\" mins\")"
   ]
  },
  {
   "cell_type": "code",
   "execution_count": null,
   "metadata": {},
   "outputs": [],
   "source": [
    "HighDC_table = HighDC_res.get_nodes_stepwise_probability_distribution(nodes)"
   ]
  },
  {
   "cell_type": "markdown",
   "metadata": {},
   "source": [
    "__Low DC population__ (i.e. $\\text{initial pop}/ 1.5$)"
   ]
  },
  {
   "cell_type": "code",
   "execution_count": null,
   "metadata": {},
   "outputs": [],
   "source": [
    "LowDC = maboss.UpdatePopulation(sim_d,upp)\n",
    "LowDC.param['$InitDC'] = 0.067"
   ]
  },
  {
   "cell_type": "code",
   "execution_count": null,
   "metadata": {},
   "outputs": [],
   "source": [
    "start = time.time()\n",
    "LowDC_res = HighDC.run()\n",
    "stop = time.time()\n",
    "duration = (stop-start)/60\n",
    "print(\"exec. time: \",duration,\" mins\")"
   ]
  },
  {
   "cell_type": "code",
   "execution_count": null,
   "metadata": {},
   "outputs": [],
   "source": [
    "LowDC_table = LowDC_res.get_nodes_stepwise_probability_distribution(nodes)"
   ]
  },
  {
   "cell_type": "markdown",
   "metadata": {},
   "source": [
    "__Faster Clonal expansion__ (i.e. $\\text{initial pop}\\cdot 1.5$)"
   ]
  },
  {
   "cell_type": "code",
   "execution_count": null,
   "metadata": {},
   "outputs": [],
   "source": [
    "FastClonal = maboss.UpdatePopulation(sim_d,upp)\n",
    "FastClonal.param['$clonal_exp_rate'] = 0.075"
   ]
  },
  {
   "cell_type": "code",
   "execution_count": null,
   "metadata": {},
   "outputs": [],
   "source": [
    "start = time.time()\n",
    "FastClonal_res = FastClonal.run()\n",
    "stop = time.time()\n",
    "duration = (stop-start)/60\n",
    "print(\"exec. time: \",duration,\" mins\")"
   ]
  },
  {
   "cell_type": "code",
   "execution_count": null,
   "metadata": {},
   "outputs": [],
   "source": [
    "FastClonal_table = FastClonal_res.get_nodes_stepwise_probability_distribution(nodes)"
   ]
  },
  {
   "cell_type": "markdown",
   "metadata": {},
   "source": [
    "__Slower Clonal expansion__ (i.e. $\\text{initial pop} / 1.5$)"
   ]
  },
  {
   "cell_type": "code",
   "execution_count": null,
   "metadata": {},
   "outputs": [],
   "source": [
    "SlowClonal = maboss.UpdatePopulation(sim_d,upp)\n",
    "SlowClonal.param['$clonal_exp_rate'] = 0.033"
   ]
  },
  {
   "cell_type": "code",
   "execution_count": null,
   "metadata": {},
   "outputs": [],
   "source": [
    "start = time.time()\n",
    "SlowClonal_res = SlowClonal.run()\n",
    "stop = time.time()\n",
    "duration = (stop-start)/60\n",
    "print(\"exec. time: \",duration,\" mins\")"
   ]
  },
  {
   "cell_type": "code",
   "execution_count": null,
   "metadata": {},
   "outputs": [],
   "source": [
    "SlowClonal_table = SlowClonal_res.get_nodes_stepwise_probability_distribution(nodes)"
   ]
  },
  {
   "cell_type": "code",
   "execution_count": null,
   "metadata": {},
   "outputs": [],
   "source": [
    "mutants_vs_WT = plt.figure()\n",
    "plt.plot(WT_table['PopRatio']*WT_table['Tumor'],\"sg\",label=\"WT\")\n",
    "plt.plot(HighDC_table['PopRatio']*HighDC_yable['Tumor'],\"^r\",label=\"$HighDC\")\n",
    "plt.plot(LowDC_table['PopRatio']*LowDC_table['Tumor'],\"*r\",label=\"$LowDC\")\n",
    "plt.plot(FastClonal_table['PopRatio']*FastClonal_table['Tumor'],\"^b\",label=\"$FastClonal\")\n",
    "plt.plot(SlowClonal_table['PopRatio']*SlowClonal_table['Tumor'],\"*b\",label=\"$SlowClonal\")\n",
    "\n",
    "plt.ylabel(\"Rel.size\")\n",
    "plt.xlabel(\"Time\")\n",
    "plt.legend()\n",
    "save_figure(mutants_vs_WT,\"mutants_vs_WT.pdf\",format='pdf')\n"
   ]
  },
  {
   "cell_type": "code",
   "execution_count": null,
   "metadata": {},
   "outputs": [],
   "source": []
  }
 ],
 "metadata": {
  "kernelspec": {
   "display_name": "Python 3",
   "language": "python",
   "name": "python3"
  },
  "language_info": {
   "codemirror_mode": {
    "name": "ipython",
    "version": 3
   },
   "file_extension": ".py",
   "mimetype": "text/x-python",
   "name": "python",
   "nbconvert_exporter": "python",
   "pygments_lexer": "ipython3",
   "version": "3.9.2"
  }
 },
 "nbformat": 4,
 "nbformat_minor": 4
}
