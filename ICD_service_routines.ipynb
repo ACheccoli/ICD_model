{
 "cells": [
  {
   "cell_type": "code",
   "execution_count": 1,
   "metadata": {},
   "outputs": [],
   "source": [
    "import maboss\n",
    "import matplotlib.pyplot as plt\n",
    "import time\n",
    "import seaborn as sns\n",
    "import numpy as np\n",
    "import pandas as pd"
   ]
  },
  {
   "cell_type": "code",
   "execution_count": 2,
   "metadata": {},
   "outputs": [
    {
     "data": {
      "text/plain": [
       "'2021-03-25'"
      ]
     },
     "execution_count": 2,
     "metadata": {},
     "output_type": "execute_result"
    }
   ],
   "source": [
    "from datetime import datetime\n",
    "e = datetime.today().strftime('%Y-%m-%d')\n",
    "str(e)"
   ]
  },
  {
   "cell_type": "code",
   "execution_count": 3,
   "metadata": {},
   "outputs": [],
   "source": [
    "file = 'ICD_newDC_newICI'"
   ]
  },
  {
   "cell_type": "code",
   "execution_count": 4,
   "metadata": {},
   "outputs": [],
   "source": [
    "bnd = file+'.bnd'\n",
    "cfg = file+'.cfg'\n",
    "upp = file+'.upp'"
   ]
  },
  {
   "cell_type": "code",
   "execution_count": 5,
   "metadata": {},
   "outputs": [],
   "source": [
    "sns.set_style(\"white\")\n",
    "colormap_scale = sns.light_palette(\"black\", as_cmap=True)\n",
    "colormap_ratios = sns.diverging_palette(240, 0, center='light', as_cmap=True)\n",
    "def save_figure(figure, title):\n",
    "    figure.savefig(\"%s.pdf\" % title, bbox_inches=\"tight\")"
   ]
  },
  {
   "cell_type": "code",
   "execution_count": 6,
   "metadata": {},
   "outputs": [
    {
     "data": {
      "application/javascript": [
       "if (!(\"Notification\" in window)) {\n",
       "    alert(\"This browser does not support desktop notifications, so the %%notify magic will not work.\");\n",
       "} else if (Notification.permission !== 'granted' && Notification.permission !== 'denied') {\n",
       "    Notification.requestPermission(function (permission) {\n",
       "        if(!('permission' in Notification)) {\n",
       "            Notification.permission = permission;\n",
       "        }\n",
       "    })\n",
       "}\n"
      ],
      "text/plain": [
       "<IPython.core.display.Javascript object>"
      ]
     },
     "metadata": {},
     "output_type": "display_data"
    }
   ],
   "source": [
    "%load_ext jupyternotify"
   ]
  },
  {
   "cell_type": "code",
   "execution_count": null,
   "metadata": {},
   "outputs": [],
   "source": [
    "sim = maboss.load(bnd,cfg)\n",
    "big_sim = maboss.UpdatePopulation(sim,upp)\n",
    "start = time.time()\n",
    "res = big_sim.run()\n",
    "nodes=('Tumor','ChemoT','anti_CTLA4','anti_PD1','DyingTumor','cDC1','cDC2','moDC','pDC','CD4','CD8','a_cDC1','a_cDC2','CD4_Act','P2Y2R','P2X7R','FPR1','LRP1','TLR4','IFN1R','IL1BR','IL2R','IL4R','IL6R','IL10R','IL12R','IL27R','IFNgR','IL17R','TGFbR','CXCR3','CD28','CTLA4','PD1','TNFRs','TCR_I','TCR_II','CD226','Proliferation_Survival','PRDM1','MAF','STAT4','NFkB','MAPKs','Ca_NFAT','PI3K_AKT','Tbet','FOXP3','FOXO1','LAT_complex','VAV','PLCG','PKC_teta','TIM3','TIGIT','ICOS','TRAFs','CK2','PTEN','PP2A','SHIP','SHP','LAG3','AP1','YY1','NFAT','LCK_FYN','STAT1','SMAD2_3','SMAD7','STAT3','NFIL3','GRB2','GSK3','Th1','Th2','Th17','Treg','CALR','ATP','ANXA1','HMGB1','CXCL10','LAG3_L','TIM3_L','TIGIT_L','PD_L1','TNFRs_L','ICOS_L','CD80','MHC_I','MHC_II','IL1B','IL2','IL4','IL6','IL10','IL12','IL17','IL27','IFNg','TGFb','Perforin','preCTL','CTL','IFN1','Division','Death')\n",
    "table = res.get_nodes_stepwise_probability_distribution(nodes)\n",
    "stop = time.time()\n",
    "duration = (stop-start)/60\n",
    "print(\"exec. time: \",duration,\" mins\")\n",
    "%notify -m \"The simulation is over.\"\n"
   ]
  },
  {
   "cell_type": "code",
   "execution_count": null,
   "metadata": {},
   "outputs": [],
   "source": [
    "table.to_csv('temporary.csv')"
   ]
  },
  {
   "cell_type": "code",
   "execution_count": null,
   "metadata": {},
   "outputs": [],
   "source": [
    "plt.figure()\n",
    "#plt.plot(table['PopRatio']*table['IL2'],label='IL2')\n",
    "#plt.plot(table['PopRatio']*table['IL2R'],label='IL2R')\n",
    "#plt.plot(table['PopRatio']*table['NFkB'],label='NFkB')\n",
    "#plt.plot(table['PopRatio']*table['AP1'],label='AP1')\n",
    "#plt.plot(table['PopRatio']*table['NFAT'],label='NFAT')\n",
    "#plt.plot(table['PopRatio']*table['CD4'],label='CD4')\n",
    "#plt.plot(table['PopRatio']*table['CD28'],label='CD28')\n",
    "#plt.plot(table['PopRatio']*table['TCR_II'],label='TCR_II')\n",
    "#plt.plot(table['PopRatio']*table['CD4_Act'],label='CD4_Act')\n",
    "#plt.plot(table['PopRatio']*table['IFNg'],label='IFNg')\n",
    "#plt.plot(table['PopRatio']*table['Proliferation_Survival'],label='prol')\n",
    "plt.plot(table['PopRatio']*table['CTL'],label='CTL')\n",
    "plt.plot(table['PopRatio']*table['preCTL'],label='preCTL')\n",
    "\n",
    "plt.legend()"
   ]
  },
  {
   "cell_type": "code",
   "execution_count": null,
   "metadata": {},
   "outputs": [],
   "source": [
    "plt.ioff()\n",
    "All = plt.figure()\n",
    "plt.plot(table['PopRatio']*table['CTL'],label=\"CTL\")\n",
    "plt.plot(table['PopRatio']*table['CALR'],label=\"CALR\")\n",
    "plt.plot(table['PopRatio']*table['HMGB1'],label=\"HMGB1\")\n",
    "plt.plot(table['PopRatio']*table['Treg'],label=\"Treg\")\n",
    "plt.plot(table['PopRatio']*table['Tumor'],label=\"Tumor\")\n",
    "plt.plot(table['PopRatio']*table['Perforin'],label=\"Perforin\")\n",
    "plt.plot(table['PopRatio']*table['CTLA4'],label=\"CTLA4\")\n",
    "plt.plot(table['PopRatio']*table['PD1'],label=\"PD1\")\n",
    "plt.ylabel(\"Rel.size\")\n",
    "plt.xlabel(\"Time\")\n",
    "plt.legend()\n",
    "save_figure(All,\"ALL_ICD\"+str(e))\n",
    "plt.close(All)\n",
    "DCs = plt.figure()\n",
    "plt.plot(table['PopRatio']*table['moDC'],label=\"moDC\")\n",
    "plt.plot(table['PopRatio']*table['pDC'],label=\"pDC\")            \n",
    "plt.plot(table['PopRatio']*table['cDC1'],label=\"cDC1\")\n",
    "plt.plot(table['PopRatio']*table['cDC2'],label=\"cDC2\")            \n",
    "plt.plot(table['PopRatio']*table['a_cDC1'],label=\"a_cDC1\")\n",
    "plt.plot(table['PopRatio']*table['a_cDC2'],label=\"a_cDC2\")\n",
    "plt.ylabel(\"Rel.size\")\n",
    "plt.xlabel(\"Time\")\n",
    "plt.legend()\n",
    "save_figure(DCs,\"DCs_ICD\"+str(e))            \n",
    "plt.close(DCs)            \n",
    "NTcells = plt.figure()\n",
    "plt.plot(table['PopRatio']*table['Treg'],label=\"Treg\")\n",
    "plt.plot(table['PopRatio']*table['Th1'],label=\"Th1\")\n",
    "plt.plot(table['PopRatio']*table['Th2'],label=\"Th2\")\n",
    "plt.plot(table['PopRatio']*table['Th17'],label=\"Th17\")\n",
    "plt.plot(table['PopRatio']*table['preCTL'],label=\"preCTL\")\n",
    "plt.plot(table['PopRatio']*table['CTL'],label=\"CTL\")\n",
    "plt.ylabel(\"Rel.size\")\n",
    "plt.xlabel(\"Time\")\n",
    "plt.legend()\n",
    "save_figure(NTcells,\"Tcells_ICD\"+str(e))\n",
    "plt.close(NTcells)\n",
    "Ligands = plt.figure()\n"
   ]
  },
  {
   "cell_type": "code",
   "execution_count": null,
   "metadata": {},
   "outputs": [],
   "source": [
    "values = np.linspace(0.1,1.0,10)\n",
    "values"
   ]
  },
  {
   "cell_type": "code",
   "execution_count": null,
   "metadata": {},
   "outputs": [],
   "source": [
    "plt.ioff()\n",
    "for l in values:\n",
    "    sim = maboss.load(bnd,cfg)\n",
    "    sim.network.set_istate(\"Anti_CTLA4\",[l,1-l])\n",
    "    sim.network.set_istate(\"Anti_PD1\",[1-l,l])\n",
    "    big_sim = maboss.UpdatePopulation(sim,upp)\n",
    "    start = time.time()\n",
    "    res = big_sim.run()\n",
    "    nodes=('Tumor','DC','aDC','cd4','cd8','Th1','Th2','Th17','Treg','preCTL','CTL','CALR_o','HMGB1_o','Perforin_o','IL10_o','IL27_o','CD28','CTLA4','PD1','PD1_L','Anti_PD1_L','Anti_CTLA4')\n",
    "    table = res.get_nodes_stepwise_probability_distribution(nodes)\n",
    "    Tcells = plt.figure()\n",
    "    plt.plot(table['PopRatio']*table['Th1'],label=\"Th1\")\n",
    "    plt.plot(table['PopRatio']*table['Th2'],label=\"Th2\")\n",
    "    plt.plot(table['PopRatio']*table['Th17'],label=\"Th17\")\n",
    "    plt.plot(table['PopRatio']*table['CTL'],label=\"CTL\")\n",
    "    plt.plot(table['PopRatio']*table['Treg'],label=\"Treg\")\n",
    "    plt.plot(table['PopRatio']*table['IL10_o'],label=\"IL10\")\n",
    "    plt.plot(table['PopRatio']*table['IL27_o'],label=\"IL27\")\n",
    "    plt.plot(table['PopRatio']*table['CTLA4'],label=\"CTLA4\")\n",
    "    plt.plot(table['PopRatio']*table['PD1'],label=\"PD1\")\n",
    "    plt.plot(table['PopRatio']*table['Tumor'],label=\"Tumor\")\n",
    "    plt.plot(table['PopRatio']*table['Perforin_o'],label=\"Perforin_o\")\n",
    "    plt.ylabel(\"Rel.size\")\n",
    "    plt.xlabel(\"Time\")\n",
    "    plt.legend()\n",
    "    save_figure(Tcells,\"ALL_AntiPD1_\"+str(1-l)+\"AntiCTLA4_\"+str(l))\n",
    "    plt.close(Tcells)\n",
    "    checkpoint_cd28 = plt.figure()\n",
    "    plt.plot(table['PopRatio']*table['CTLA4'],label=\"CTLA4\")\n",
    "    plt.plot(table['PopRatio']*table['PD1'],label=\"PD1\")\n",
    "    plt.plot(table['PopRatio']*table['CD28'],label=\"cd28\")\n",
    "    plt.legend()\n",
    "    save_figure(checkpoint_cd28,\"CD28_AntiPD1_\"+str(1-l)+\"AntiCTLA4_\"+str(l))\n",
    "    plt.close(checkpoint_cd28)\n",
    "    NTcells = plt.figure()\n",
    "    plt.plot(table['PopRatio']*table['Treg'],label=\"Treg\")\n",
    "    plt.plot(table['PopRatio']*table['Th1'],label=\"Th1\")\n",
    "    plt.plot(table['PopRatio']*table['Th2'],label=\"Th2\")\n",
    "    plt.plot(table['PopRatio']*table['preCTL'],label=\"preCTL\")\n",
    "    plt.plot(table['PopRatio']*table['CTL'],label=\"CTL\")\n",
    "    #plt.plot(table['PopRatio']*table['Tumor'],label=\"Tumor\")\n",
    "    plt.plot(table['PopRatio']*table['Perforin_o'],label=\"Perforin_o\")\n",
    "    plt.ylabel(\"Rel.size\")\n",
    "    plt.xlabel(\"Time\")\n",
    "    plt.legend()\n",
    "    save_figure(NTcells,\"Tcells_AntiPD1_\"+str(1-l)+\"AntiCTLA4\"+str(l))\n",
    "    plt.close(NTcells)\n",
    "    stop = time.time()\n",
    "    duration = (stop-start)/60\n",
    "    print(\"exec. time: \",duration,\" mins\")"
   ]
  },
  {
   "cell_type": "code",
   "execution_count": null,
   "metadata": {},
   "outputs": [],
   "source": [
    "adc = plt.figure()\n",
    "plt.plot(table['PopRatio']*table['Tumor'],'-g',label=\"Tumor\")\n",
    "plt.plot(table['PopRatio']*table['CALR_o'],'-',label=\"CALR_o\")\n",
    "plt.plot(table['PopRatio']*table['aDC'],'-r',label=\"aDC\")\n",
    "plt.ylabel(\"Rel.size\")\n",
    "plt.xlabel(r'$Time')\n",
    "plt.legend()\n",
    "#save_figure(adc,\"aDC_Tumor_CALR\")"
   ]
  },
  {
   "cell_type": "code",
   "execution_count": null,
   "metadata": {},
   "outputs": [],
   "source": [
    "bnd_d = 'ICD_ExtendDy.bnd'\n",
    "cfg_d = 'ICD_ExtendDy.cfg'\n",
    "upp_d = 'ICD_ExtendDy.upp'"
   ]
  },
  {
   "cell_type": "code",
   "execution_count": null,
   "metadata": {},
   "outputs": [],
   "source": [
    "sim_d = maboss.load(bnd_d,cfg_d)"
   ]
  },
  {
   "cell_type": "code",
   "execution_count": null,
   "metadata": {},
   "outputs": [],
   "source": [
    "WT = maboss.UpdatePopulation(sim_d,upp)"
   ]
  },
  {
   "cell_type": "code",
   "execution_count": null,
   "metadata": {},
   "outputs": [],
   "source": [
    "start = time.time()\n",
    "WT_res = WT.run()\n",
    "stop = time.time()\n",
    "duration = (stop-start)/60\n",
    "print(\"exec. time: \",duration,\" mins\")"
   ]
  },
  {
   "cell_type": "code",
   "execution_count": null,
   "metadata": {},
   "outputs": [],
   "source": [
    "WT_table = WT_res.get_nodes_stepwise_probability_distribution(nodes)"
   ]
  },
  {
   "cell_type": "markdown",
   "metadata": {},
   "source": [
    " __Higher initial DC population__  (i.e. $\\text{initial pop}\\cdot 1.5$)"
   ]
  },
  {
   "cell_type": "code",
   "execution_count": null,
   "metadata": {},
   "outputs": [],
   "source": [
    "HighDC = maboss.UpdatePopulation(sim_d,upp)\n",
    "HighDC.param['$InitDC'] = 0.15"
   ]
  },
  {
   "cell_type": "code",
   "execution_count": null,
   "metadata": {},
   "outputs": [],
   "source": [
    "start = time.time()\n",
    "HighDC_res = HighDC.run()\n",
    "stop = time.time()\n",
    "duration = (stop-start)/60\n",
    "print(\"exec. time: \",duration,\" mins\")"
   ]
  },
  {
   "cell_type": "code",
   "execution_count": null,
   "metadata": {},
   "outputs": [],
   "source": [
    "HighDC_table = HighDC_res.get_nodes_stepwise_probability_distribution(nodes)"
   ]
  },
  {
   "cell_type": "markdown",
   "metadata": {},
   "source": [
    "__Low DC population__ (i.e. $\\text{initial pop}/ 1.5$)"
   ]
  },
  {
   "cell_type": "code",
   "execution_count": null,
   "metadata": {},
   "outputs": [],
   "source": [
    "LowDC = maboss.UpdatePopulation(sim_d,upp)\n",
    "LowDC.param['$InitDC'] = 0.067"
   ]
  },
  {
   "cell_type": "code",
   "execution_count": null,
   "metadata": {},
   "outputs": [],
   "source": [
    "start = time.time()\n",
    "LowDC_res = HighDC.run()\n",
    "stop = time.time()\n",
    "duration = (stop-start)/60\n",
    "print(\"exec. time: \",duration,\" mins\")"
   ]
  },
  {
   "cell_type": "code",
   "execution_count": null,
   "metadata": {},
   "outputs": [],
   "source": [
    "LowDC_table = LowDC_res.get_nodes_stepwise_probability_distribution(nodes)"
   ]
  },
  {
   "cell_type": "markdown",
   "metadata": {},
   "source": [
    "__Faster Clonal expansion__ (i.e. $\\text{initial pop}\\cdot 1.5$)"
   ]
  },
  {
   "cell_type": "code",
   "execution_count": null,
   "metadata": {},
   "outputs": [],
   "source": [
    "FastClonal = maboss.UpdatePopulation(sim_d,upp)\n",
    "FastClonal.param['$clonal_exp_rate'] = 0.075"
   ]
  },
  {
   "cell_type": "code",
   "execution_count": null,
   "metadata": {},
   "outputs": [],
   "source": [
    "start = time.time()\n",
    "FastClonal_res = FastClonal.run()\n",
    "stop = time.time()\n",
    "duration = (stop-start)/60\n",
    "print(\"exec. time: \",duration,\" mins\")"
   ]
  },
  {
   "cell_type": "code",
   "execution_count": null,
   "metadata": {},
   "outputs": [],
   "source": [
    "FastClonal_table = FastClonal_res.get_nodes_stepwise_probability_distribution(nodes)"
   ]
  },
  {
   "cell_type": "markdown",
   "metadata": {},
   "source": [
    "__Slower Clonal expansion__ (i.e. $\\text{initial pop} / 1.5$)"
   ]
  },
  {
   "cell_type": "code",
   "execution_count": null,
   "metadata": {},
   "outputs": [],
   "source": [
    "SlowClonal = maboss.UpdatePopulation(sim_d,upp)\n",
    "SlowClonal.param['$clonal_exp_rate'] = 0.033"
   ]
  },
  {
   "cell_type": "code",
   "execution_count": null,
   "metadata": {},
   "outputs": [],
   "source": [
    "start = time.time()\n",
    "SlowClonal_res = SlowClonal.run()\n",
    "stop = time.time()\n",
    "duration = (stop-start)/60\n",
    "print(\"exec. time: \",duration,\" mins\")"
   ]
  },
  {
   "cell_type": "code",
   "execution_count": null,
   "metadata": {},
   "outputs": [],
   "source": [
    "SlowClonal_table = SlowClonal_res.get_nodes_stepwise_probability_distribution(nodes)"
   ]
  },
  {
   "cell_type": "code",
   "execution_count": null,
   "metadata": {},
   "outputs": [],
   "source": [
    "mutants_vs_WT = plt.figure()\n",
    "plt.plot(WT_table['PopRatio']*WT_table['Tumor'],\"sg\",label=\"WT\")\n",
    "plt.plot(HighDC_table['PopRatio']*HighDC_yable['Tumor'],\"^r\",label=\"$HighDC\")\n",
    "plt.plot(LowDC_table['PopRatio']*LowDC_table['Tumor'],\"*r\",label=\"$LowDC\")\n",
    "plt.plot(FastClonal_table['PopRatio']*FastClonal_table['Tumor'],\"^b\",label=\"$FastClonal\")\n",
    "plt.plot(SlowClonal_table['PopRatio']*SlowClonal_table['Tumor'],\"*b\",label=\"$SlowClonal\")\n",
    "\n",
    "plt.ylabel(\"Rel.size\")\n",
    "plt.xlabel(\"Time\")\n",
    "plt.legend()\n",
    "save_figure(mutants_vs_WT,\"mutants_vs_WT.pdf\",format='pdf')\n"
   ]
  },
  {
   "cell_type": "code",
   "execution_count": null,
   "metadata": {},
   "outputs": [],
   "source": []
  }
 ],
 "metadata": {
  "kernelspec": {
   "display_name": "Python 3",
   "language": "python",
   "name": "python3"
  },
  "language_info": {
   "codemirror_mode": {
    "name": "ipython",
    "version": 3
   },
   "file_extension": ".py",
   "mimetype": "text/x-python",
   "name": "python",
   "nbconvert_exporter": "python",
   "pygments_lexer": "ipython3",
   "version": "3.9.2"
  }
 },
 "nbformat": 4,
 "nbformat_minor": 4
}
