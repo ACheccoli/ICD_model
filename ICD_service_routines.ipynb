{
 "cells": [
  {
   "cell_type": "code",
   "execution_count": 1,
   "metadata": {},
   "outputs": [],
   "source": [
    "import maboss\n",
    "import matplotlib.pyplot as plt\n",
    "import time\n",
    "import seaborn as sns\n",
    "import numpy as np\n",
    "import pandas as pd"
   ]
  },
  {
   "cell_type": "code",
   "execution_count": 2,
   "metadata": {},
   "outputs": [
    {
     "data": {
      "text/plain": [
       "'2021-11-17'"
      ]
     },
     "execution_count": 2,
     "metadata": {},
     "output_type": "execute_result"
    }
   ],
   "source": [
    "from datetime import datetime\n",
    "e = datetime.today().strftime('%Y-%m-%d')\n",
    "str(e)"
   ]
  },
  {
   "cell_type": "code",
   "execution_count": 3,
   "metadata": {},
   "outputs": [],
   "source": [
    "file = 'ICD_latest_CorrGS'"
   ]
  },
  {
   "cell_type": "code",
   "execution_count": 5,
   "metadata": {},
   "outputs": [],
   "source": [
    "bnd = file+'.bnd'\n",
    "cfg = file+'.cfg'\n",
    "upp = file+'.upp'"
   ]
  },
  {
   "cell_type": "code",
   "execution_count": 6,
   "metadata": {},
   "outputs": [],
   "source": [
    "sns.set_style(\"white\")\n",
    "colormap_scale = sns.light_palette(\"black\", as_cmap=True)\n",
    "colormap_ratios = sns.diverging_palette(240, 0, center='light', as_cmap=True)\n",
    "def save_figure(figure, title):\n",
    "    figure.savefig(\"%s.pdf\" % title, bbox_inches=\"tight\")"
   ]
  },
  {
   "cell_type": "code",
   "execution_count": 7,
   "metadata": {},
   "outputs": [
    {
     "data": {
      "application/javascript": [
       "if (!(\"Notification\" in window)) {\n",
       "    alert(\"This browser does not support desktop notifications, so the %%notify magic will not work.\");\n",
       "} else if (Notification.permission !== 'granted' && Notification.permission !== 'denied') {\n",
       "    Notification.requestPermission(function (permission) {\n",
       "        if(!('permission' in Notification)) {\n",
       "            Notification.permission = permission;\n",
       "        }\n",
       "    })\n",
       "}\n"
      ],
      "text/plain": [
       "<IPython.core.display.Javascript object>"
      ]
     },
     "metadata": {},
     "output_type": "display_data"
    }
   ],
   "source": [
    "%load_ext jupyternotify"
   ]
  },
  {
   "cell_type": "code",
   "execution_count": 8,
   "metadata": {},
   "outputs": [],
   "source": [
    "sim = maboss.load(bnd,cfg)"
   ]
  },
  {
   "cell_type": "code",
   "execution_count": 9,
   "metadata": {},
   "outputs": [],
   "source": [
    "big_sim = maboss.UpdatePopulation(sim,upp)"
   ]
  },
  {
   "cell_type": "code",
   "execution_count": 10,
   "metadata": {},
   "outputs": [
    {
     "data": {
      "text/plain": [
       "121"
      ]
     },
     "execution_count": 10,
     "metadata": {},
     "output_type": "execute_result"
    }
   ],
   "source": [
    "nodes= sim.network.keys()\n",
    "len(nodes)"
   ]
  },
  {
   "cell_type": "code",
   "execution_count": 11,
   "metadata": {},
   "outputs": [
    {
     "name": "stdout",
     "output_type": "stream",
     "text": [
      "exec. time:  3.0203323125839234  mins\n"
     ]
    },
    {
     "data": {
      "application/javascript": [
       "$(document).ready(\n",
       "    function() {\n",
       "        function appendUniqueDiv(){\n",
       "            // append a div with our uuid so we can check that it's already\n",
       "            // been sent and avoid duplicates on page reload\n",
       "            var notifiedDiv = document.createElement(\"div\")\n",
       "            notifiedDiv.id = \"71640ada-89a4-4190-b6cb-71ecc65b7601\"\n",
       "            element.append(notifiedDiv)\n",
       "        }\n",
       "\n",
       "        // only send notifications if the pageload is complete; this will\n",
       "        // help stop extra notifications when a saved notebook is loaded,\n",
       "        // which during testing gives us state \"interactive\", not \"complete\"\n",
       "        if (document.readyState === 'complete') {\n",
       "            // check for the div that signifies that the notification\n",
       "            // was already sent\n",
       "            if (document.getElementById(\"71640ada-89a4-4190-b6cb-71ecc65b7601\") === null) {\n",
       "                var notificationPayload = {\"requireInteraction\": false, \"icon\": \"/static/base/images/favicon.ico\", \"body\": \"The simulation is over.\"};\n",
       "                if (Notification.permission !== 'denied') {\n",
       "                    if (Notification.permission !== 'granted') { \n",
       "                        Notification.requestPermission(function (permission) {\n",
       "                            if(!('permission' in Notification)) {\n",
       "                                Notification.permission = permission\n",
       "                            }\n",
       "                        })\n",
       "                    }\n",
       "                    if (Notification.permission === 'granted') {\n",
       "                    var notification = new Notification(\"Jupyter Notebook\", notificationPayload)\n",
       "                    appendUniqueDiv()\n",
       "                    notification.onclick = function () {\n",
       "                        window.focus();\n",
       "                        this.close();\n",
       "                        };\n",
       "                    } \n",
       "                }     \n",
       "            }\n",
       "        }\n",
       "    }\n",
       ")\n"
      ],
      "text/plain": [
       "<IPython.core.display.Javascript object>"
      ]
     },
     "metadata": {},
     "output_type": "display_data"
    }
   ],
   "source": [
    "start = time.time()\n",
    "res = big_sim.run()\n",
    "table = res.get_nodes_stepwise_probability_distribution(nodes, nb_cores=8)\n",
    "stop = time.time()\n",
    "duration = (stop-start)/60\n",
    "print(\"exec. time: \",duration,\" mins\")\n",
    "%notify -m \"The simulation is over.\""
   ]
  },
  {
   "cell_type": "code",
   "execution_count": 12,
   "metadata": {},
   "outputs": [],
   "source": [
    "table.to_csv('temporary.csv')"
   ]
  },
  {
   "cell_type": "code",
   "execution_count": 13,
   "metadata": {},
   "outputs": [
    {
     "data": {
      "text/plain": [
       "<matplotlib.legend.Legend at 0x7f1a7e142100>"
      ]
     },
     "execution_count": 13,
     "metadata": {},
     "output_type": "execute_result"
    },
    {
     "data": {
      "image/png": "[encoded data removed]",
      "text/plain": [
       "<Figure size 432x288 with 1 Axes>"
      ]
     },
     "metadata": {},
     "output_type": "display_data"
    }
   ],
   "source": [
    "plt.figure()\n",
    "#plt.plot(table['PopRatio']*table['IL2'],label='IL2')\n",
    "#plt.plot(table['PopRatio']*table['IL2R'],label='IL2R')\n",
    "#plt.plot(table['PopRatio']*table['NFkB'],label='NFkB')\n",
    "#plt.plot(table['PopRatio']*table['AP1'],label='AP1')\n",
    "#plt.plot(table['PopRatio']*table['NFAT'],label='NFAT')\n",
    "#plt.plot(table['PopRatio']*table['CD4'],label='CD4')\n",
    "#plt.plot(table['PopRatio']*table['CD28'],label='CD28')\n",
    "#plt.plot(table['PopRatio']*table['TCR_II'],label='TCR_II')\n",
    "#plt.plot(table['PopRatio']*table['CD4_Act'],label='CD4_Act')\n",
    "#plt.plot(table['PopRatio']*table['IFNg'],label='IFNg')\n",
    "#plt.plot(table['PopRatio']*table['Proliferation_Survival'],label='prol')\n",
    "plt.plot(table['PopRatio']*table['CTL'],label='CTL')\n",
    "plt.plot(table['PopRatio']*table['preCTL'],label='preCTL')\n",
    "\n",
    "plt.legend()"
   ]
  },
  {
   "cell_type": "code",
   "execution_count": 14,
   "metadata": {},
   "outputs": [
    {
     "data": {
      "text/plain": [
       "<Figure size 432x288 with 0 Axes>"
      ]
     },
     "metadata": {},
     "output_type": "display_data"
    }
   ],
   "source": [
    "plt.ioff()\n",
    "All = plt.figure()\n",
    "plt.plot(table['PopRatio']*table['CTL'],label=\"CTL\")\n",
    "plt.plot(table['PopRatio']*table['CALR'],label=\"CALR\")\n",
    "plt.plot(table['PopRatio']*table['HMGB1'],label=\"HMGB1\")\n",
    "plt.plot(table['PopRatio']*table['Treg'],label=\"Treg\")\n",
    "plt.plot(table['PopRatio']*table['Tumor'],label=\"Tumor\")\n",
    "plt.plot(table['PopRatio']*table['Perforin'],label=\"Perforin\")\n",
    "plt.plot(table['PopRatio']*table['CTLA4'],label=\"CTLA4\")\n",
    "plt.plot(table['PopRatio']*table['PD1'],label=\"PD1\")\n",
    "plt.ylabel(\"Rel.size\")\n",
    "plt.xlabel(\"Time\")\n",
    "plt.legend()\n",
    "save_figure(All,\"ALL_ICD\"+str(e))\n",
    "plt.close(All)\n",
    "DCs = plt.figure()\n",
    "plt.plot(table['PopRatio']*table['moDC'],label=\"moDC\")\n",
    "plt.plot(table['PopRatio']*table['pDC'],label=\"pDC\")            \n",
    "plt.plot(table['PopRatio']*table['cDC1'],label=\"cDC1\")\n",
    "plt.plot(table['PopRatio']*table['cDC2'],label=\"cDC2\")            \n",
    "plt.plot(table['PopRatio']*table['a_cDC1'],label=\"a_cDC1\")\n",
    "plt.plot(table['PopRatio']*table['a_cDC2'],label=\"a_cDC2\")\n",
    "plt.ylabel(\"Rel.size\")\n",
    "plt.xlabel(\"Time\")\n",
    "plt.legend()\n",
    "save_figure(DCs,\"DCs_ICD\"+str(e))            \n",
    "plt.close(DCs)            \n",
    "NTcells = plt.figure()\n",
    "plt.plot(table['PopRatio']*table['Treg'],label=\"Treg\")\n",
    "plt.plot(table['PopRatio']*table['Th1'],label=\"Th1\")\n",
    "plt.plot(table['PopRatio']*table['Th2'],label=\"Th2\")\n",
    "plt.plot(table['PopRatio']*table['Th17'],label=\"Th17\")\n",
    "plt.plot(table['PopRatio']*table['preCTL'],label=\"preCTL\")\n",
    "plt.plot(table['PopRatio']*table['CTL'],label=\"CTL\")\n",
    "plt.ylabel(\"Rel.size\")\n",
    "plt.xlabel(\"Time\")\n",
    "plt.legend()\n",
    "save_figure(NTcells,\"Tcells_ICD\"+str(e))\n",
    "plt.close(NTcells)\n",
    "Ligands = plt.figure()\n"
   ]
  },
  {
   "cell_type": "code",
   "execution_count": 15,
   "metadata": {},
   "outputs": [
    {
     "data": {
      "text/plain": [
       "array([0.1, 0.2, 0.3, 0.4, 0.5, 0.6, 0.7, 0.8, 0.9, 1. ])"
      ]
     },
     "execution_count": 15,
     "metadata": {},
     "output_type": "execute_result"
    }
   ],
   "source": [
    "values = np.linspace(0.1,1.0,10)\n",
    "values"
   ]
  },
  {
   "cell_type": "code",
   "execution_count": null,
   "metadata": {},
   "outputs": [],
   "source": [
    "plt.ioff()\n",
    "for l in values:\n",
    "    sim = maboss.load(bnd,cfg)\n",
    "    sim.network.set_istate(\"Anti_CTLA4\",[l,1-l])\n",
    "    sim.network.set_istate(\"Anti_PD1\",[1-l,l])\n",
    "    big_sim = maboss.UpdatePopulation(sim,upp)\n",
    "    start = time.time()\n",
    "    res = big_sim.run()\n",
    "    nodes=('Tumor','DC','aDC','cd4','cd8','Th1','Th2','Th17','Treg','preCTL','CTL','CALR_o','HMGB1_o','Perforin_o','IL10_o','IL27_o','CD28','CTLA4','PD1','PD1_L','Anti_PD1_L','Anti_CTLA4')\n",
    "    table = res.get_nodes_stepwise_probability_distribution(nodes)\n",
    "    Tcells = plt.figure()\n",
    "    plt.plot(table['PopRatio']*table['Th1'],label=\"Th1\")\n",
    "    plt.plot(table['PopRatio']*table['Th2'],label=\"Th2\")\n",
    "    plt.plot(table['PopRatio']*table['Th17'],label=\"Th17\")\n",
    "    plt.plot(table['PopRatio']*table['CTL'],label=\"CTL\")\n",
    "    plt.plot(table['PopRatio']*table['Treg'],label=\"Treg\")\n",
    "    plt.plot(table['PopRatio']*table['IL10_o'],label=\"IL10\")\n",
    "    plt.plot(table['PopRatio']*table['IL27_o'],label=\"IL27\")\n",
    "    plt.plot(table['PopRatio']*table['CTLA4'],label=\"CTLA4\")\n",
    "    plt.plot(table['PopRatio']*table['PD1'],label=\"PD1\")\n",
    "    plt.plot(table['PopRatio']*table['Tumor'],label=\"Tumor\")\n",
    "    plt.plot(table['PopRatio']*table['Perforin_o'],label=\"Perforin_o\")\n",
    "    plt.ylabel(\"Rel.size\")\n",
    "    plt.xlabel(\"Time\")\n",
    "    plt.legend()\n",
    "    save_figure(Tcells,\"ALL_AntiPD1_\"+str(1-l)+\"AntiCTLA4_\"+str(l))\n",
    "    plt.close(Tcells)\n",
    "    checkpoint_cd28 = plt.figure()\n",
    "    plt.plot(table['PopRatio']*table['CTLA4'],label=\"CTLA4\")\n",
    "    plt.plot(table['PopRatio']*table['PD1'],label=\"PD1\")\n",
    "    plt.plot(table['PopRatio']*table['CD28'],label=\"cd28\")\n",
    "    plt.legend()\n",
    "    save_figure(checkpoint_cd28,\"CD28_AntiPD1_\"+str(1-l)+\"AntiCTLA4_\"+str(l))\n",
    "    plt.close(checkpoint_cd28)\n",
    "    NTcells = plt.figure()\n",
    "    plt.plot(table['PopRatio']*table['Treg'],label=\"Treg\")\n",
    "    plt.plot(table['PopRatio']*table['Th1'],label=\"Th1\")\n",
    "    plt.plot(table['PopRatio']*table['Th2'],label=\"Th2\")\n",
    "    plt.plot(table['PopRatio']*table['preCTL'],label=\"preCTL\")\n",
    "    plt.plot(table['PopRatio']*table['CTL'],label=\"CTL\")\n",
    "    #plt.plot(table['PopRatio']*table['Tumor'],label=\"Tumor\")\n",
    "    plt.plot(table['PopRatio']*table['Perforin_o'],label=\"Perforin_o\")\n",
    "    plt.ylabel(\"Rel.size\")\n",
    "    plt.xlabel(\"Time\")\n",
    "    plt.legend()\n",
    "    save_figure(NTcells,\"Tcells_AntiPD1_\"+str(1-l)+\"AntiCTLA4\"+str(l))\n",
    "    plt.close(NTcells)\n",
    "    stop = time.time()\n",
    "    duration = (stop-start)/60\n",
    "    print(\"exec. time: \",duration,\" mins\")"
   ]
  },
  {
   "cell_type": "code",
   "execution_count": null,
   "metadata": {},
   "outputs": [],
   "source": [
    "adc = plt.figure()\n",
    "plt.plot(table['PopRatio']*table['Tumor'],'-g',label=\"Tumor\")\n",
    "plt.plot(table['PopRatio']*table['CALR_o'],'-',label=\"CALR_o\")\n",
    "plt.plot(table['PopRatio']*table['aDC'],'-r',label=\"aDC\")\n",
    "plt.ylabel(\"Rel.size\")\n",
    "plt.xlabel(r'$Time')\n",
    "plt.legend()\n",
    "#save_figure(adc,\"aDC_Tumor_CALR\")"
   ]
  },
  {
   "cell_type": "code",
   "execution_count": null,
   "metadata": {},
   "outputs": [],
   "source": [
    "bnd_d = 'ICD_ExtendDy.bnd'\n",
    "cfg_d = 'ICD_ExtendDy.cfg'\n",
    "upp_d = 'ICD_ExtendDy.upp'"
   ]
  },
  {
   "cell_type": "code",
   "execution_count": null,
   "metadata": {},
   "outputs": [],
   "source": [
    "sim_d = maboss.load(bnd_d,cfg_d)"
   ]
  },
  {
   "cell_type": "code",
   "execution_count": null,
   "metadata": {},
   "outputs": [],
   "source": [
    "WT = maboss.UpdatePopulation(sim_d,upp)"
   ]
  },
  {
   "cell_type": "code",
   "execution_count": null,
   "metadata": {},
   "outputs": [],
   "source": [
    "start = time.time()\n",
    "WT_res = WT.run()\n",
    "stop = time.time()\n",
    "duration = (stop-start)/60\n",
    "print(\"exec. time: \",duration,\" mins\")"
   ]
  },
  {
   "cell_type": "code",
   "execution_count": null,
   "metadata": {},
   "outputs": [],
   "source": [
    "WT_table = WT_res.get_nodes_stepwise_probability_distribution(nodes)"
   ]
  },
  {
   "cell_type": "markdown",
   "metadata": {},
   "source": [
    " __Higher initial DC population__  (i.e. $\\text{initial pop}\\cdot 1.5$)"
   ]
  },
  {
   "cell_type": "code",
   "execution_count": null,
   "metadata": {},
   "outputs": [],
   "source": [
    "HighDC = maboss.UpdatePopulation(sim_d,upp)\n",
    "HighDC.param['$InitDC'] = 0.15"
   ]
  },
  {
   "cell_type": "code",
   "execution_count": null,
   "metadata": {},
   "outputs": [],
   "source": [
    "start = time.time()\n",
    "HighDC_res = HighDC.run()\n",
    "stop = time.time()\n",
    "duration = (stop-start)/60\n",
    "print(\"exec. time: \",duration,\" mins\")"
   ]
  },
  {
   "cell_type": "code",
   "execution_count": null,
   "metadata": {},
   "outputs": [],
   "source": [
    "HighDC_table = HighDC_res.get_nodes_stepwise_probability_distribution(nodes)"
   ]
  },
  {
   "cell_type": "markdown",
   "metadata": {},
   "source": [
    "__Low DC population__ (i.e. $\\text{initial pop}/ 1.5$)"
   ]
  },
  {
   "cell_type": "code",
   "execution_count": null,
   "metadata": {},
   "outputs": [],
   "source": [
    "LowDC = maboss.UpdatePopulation(sim_d,upp)\n",
    "LowDC.param['$InitDC'] = 0.067"
   ]
  },
  {
   "cell_type": "code",
   "execution_count": null,
   "metadata": {},
   "outputs": [],
   "source": [
    "start = time.time()\n",
    "LowDC_res = HighDC.run()\n",
    "stop = time.time()\n",
    "duration = (stop-start)/60\n",
    "print(\"exec. time: \",duration,\" mins\")"
   ]
  },
  {
   "cell_type": "code",
   "execution_count": null,
   "metadata": {},
   "outputs": [],
   "source": [
    "LowDC_table = LowDC_res.get_nodes_stepwise_probability_distribution(nodes)"
   ]
  },
  {
   "cell_type": "markdown",
   "metadata": {},
   "source": [
    "__Faster Clonal expansion__ (i.e. $\\text{initial pop}\\cdot 1.5$)"
   ]
  },
  {
   "cell_type": "code",
   "execution_count": null,
   "metadata": {},
   "outputs": [],
   "source": [
    "FastClonal = maboss.UpdatePopulation(sim_d,upp)\n",
    "FastClonal.param['$clonal_exp_rate'] = 0.075"
   ]
  },
  {
   "cell_type": "code",
   "execution_count": null,
   "metadata": {},
   "outputs": [],
   "source": [
    "start = time.time()\n",
    "FastClonal_res = FastClonal.run()\n",
    "stop = time.time()\n",
    "duration = (stop-start)/60\n",
    "print(\"exec. time: \",duration,\" mins\")"
   ]
  },
  {
   "cell_type": "code",
   "execution_count": null,
   "metadata": {},
   "outputs": [],
   "source": [
    "FastClonal_table = FastClonal_res.get_nodes_stepwise_probability_distribution(nodes)"
   ]
  },
  {
   "cell_type": "markdown",
   "metadata": {},
   "source": [
    "__Slower Clonal expansion__ (i.e. $\\text{initial pop} / 1.5$)"
   ]
  },
  {
   "cell_type": "code",
   "execution_count": null,
   "metadata": {},
   "outputs": [],
   "source": [
    "SlowClonal = maboss.UpdatePopulation(sim_d,upp)\n",
    "SlowClonal.param['$clonal_exp_rate'] = 0.033"
   ]
  },
  {
   "cell_type": "code",
   "execution_count": null,
   "metadata": {},
   "outputs": [],
   "source": [
    "start = time.time()\n",
    "SlowClonal_res = SlowClonal.run()\n",
    "stop = time.time()\n",
    "duration = (stop-start)/60\n",
    "print(\"exec. time: \",duration,\" mins\")"
   ]
  },
  {
   "cell_type": "code",
   "execution_count": null,
   "metadata": {},
   "outputs": [],
   "source": [
    "SlowClonal_table = SlowClonal_res.get_nodes_stepwise_probability_distribution(nodes)"
   ]
  },
  {
   "cell_type": "code",
   "execution_count": null,
   "metadata": {},
   "outputs": [],
   "source": [
    "mutants_vs_WT = plt.figure()\n",
    "plt.plot(WT_table['PopRatio']*WT_table['Tumor'],\"sg\",label=\"WT\")\n",
    "plt.plot(HighDC_table['PopRatio']*HighDC_yable['Tumor'],\"^r\",label=\"$HighDC\")\n",
    "plt.plot(LowDC_table['PopRatio']*LowDC_table['Tumor'],\"*r\",label=\"$LowDC\")\n",
    "plt.plot(FastClonal_table['PopRatio']*FastClonal_table['Tumor'],\"^b\",label=\"$FastClonal\")\n",
    "plt.plot(SlowClonal_table['PopRatio']*SlowClonal_table['Tumor'],\"*b\",label=\"$SlowClonal\")\n",
    "\n",
    "plt.ylabel(\"Rel.size\")\n",
    "plt.xlabel(\"Time\")\n",
    "plt.legend()\n",
    "save_figure(mutants_vs_WT,\"mutants_vs_WT.pdf\",format='pdf')\n"
   ]
  },
  {
   "cell_type": "code",
   "execution_count": null,
   "metadata": {},
   "outputs": [],
   "source": []
  }
 ],
 "metadata": {
  "kernelspec": {
   "display_name": "Python 3 (ipykernel)",
   "language": "python",
   "name": "python3"
  },
  "language_info": {
   "codemirror_mode": {
    "name": "ipython",
    "version": 3
   },
   "file_extension": ".py",
   "mimetype": "text/x-python",
   "name": "python",
   "nbconvert_exporter": "python",
   "pygments_lexer": "ipython3",
   "version": "3.9.7"
  }
 },
 "nbformat": 4,
 "nbformat_minor": 4
}
